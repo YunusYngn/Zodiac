{
  "nbformat": 4,
  "nbformat_minor": 0,
  "metadata": {
    "colab": {
      "name": " Zodiac.ipynb",
      "provenance": [],
      "collapsed_sections": []
    },
    "kernelspec": {
      "name": "python3",
      "display_name": "Python 3"
    }
  },
  "cells": [
    {
      "cell_type": "markdown",
      "metadata": {
        "id": "Nxz2__hDiYz2",
        "colab_type": "text"
      },
      "source": [
        "# Zodiac Project\n",
      ]
    },
    {
      "cell_type": "code",
      "metadata": {
        "id": "OTMU7EeBCWF5",
        "colab_type": "code",
        "colab": {}
      },
      "source": [
        "from datetime import datetime\n",
        "# A date in Python isn't a data type of its own, but we can import a module named datetime to work with dates as date objects.\n",
        "\n",
        "import pandas as pd\n",
        "# Pandas is used to easily reach the desired result by reading the data contained in it.\n",
        "\n",
        "# Defined the list of Zodiac signs and their comments with their start and end dates.\n",
        "ZODIAC_SIGN = [['Capricornus', '0101', '1901','The measured master planner of the horoscope family, Capricon energy teaches us the power of structure and long-term goals.'], ['Aquarius', '2001', '1802', 'The mad scientist and humanitarian of the horoscope wheel, futuristic Aquarius helps us innovate and unite for social justice.'], ['Pisces', '1902', '2003', 'The dreamer and healer of the horoscope family, Pisces energy awakens compassion, imagination and artistry, uniting us as one.'], ['Aries', '2103', '1904', 'The pioneer and trailblazer of the horoscope wheel, Aries energy helps us initiate, fight for our beliefs and fearlessly put ourselves out there.'], ['Taurus', '2004', '2005', 'The persistent provider of the horoscope family, Taurus energy helps us seek security, enjoy earthly pleasures and get the job done.'], ['Gemini', '2105', '2006', 'The most versatile and vibrant horoscope sign, Gemini energy helps us communicate, collaborate and fly our freak flags at full mast.'], ['Cancer', '2106', '2207', 'The natural nurturer of the horoscope wheel, Cancer energy helps us connect with our feelings, plant deep roots and feather our family nests.'], ['Leo', '2307', '2208', 'The drama and regal ruler of the horoscope clan, Leo energy helps us shine, express ourselves boldly and wear our hearts on our sleeves.'], ['Virgo', '2308', '2209', 'The masterful helper of the horoscope wheel, Virgo energy teaches us to serve, do impeccable work and prioritize wellbeing of ourselves, our loved ones and the planet.'], ['Libra', '2309', '2210', 'The balance of the horoscope family, Libra energy inspires us to seek peace, harmony and cooperation and to do it with style and grace.'], ['Scorpius', '2310', '2111', 'The most intense and focused of the horoscope signs, Scorpio energy helps us dive deep, merge our superpowers and form bonds that are built to last.'], ['Sagittarius', '2211', '2112', 'The wordly adventurer of the horoscope wheel, Sagittarius energy inspires us to dream big, chase the impossible and take fearless risks.'], ['Capricornus', '2212', '3112', 'The measured master planner of the horoscope family, Capricon energy teaches us the power of structure and long-term goals.']]\n",
        "\n",
        "COMMENTS = {'Capricornus': ['0101', '1901', 'The measured master planner of the horoscope family, Capricon energy teaches us the power of structure and long-term goals.'], 'Aquarius': ['2001', '1802', 'The mad scientist and humanitarian of the horoscope wheel, futuristic Aquarius helps us innovate and unite for social justice.'], 'Pisces': ['1902','2003','The dreamer and healer of the horoscope family, Pisces energy awakens compassion, imagination and artistry, uniting us as one.'], 'Aries': ['2103', '1904', 'The pioneer and trailblazer of the horoscope wheel, Aries energy helps us initiate, fight for our beliefs and fearlessly put ourselves out there.'], 'Taurus':['2004', '2005', 'The persistent provider of the horoscope family, Taurus energy helps us seek security, enjoy earthly pleasures and get the job done.'], 'Gemini':['2105', '2006', 'The most versatile and vibrant horoscope sign, Gemini energy helps us communicate, collaborate and fly our freak flags at full mast.'], 'Cancer':['2106','2207','The natural nurturer of the horoscope wheel, Cancer energy helps us connect with our feelings, plant deep roots and feather our family nests.'], 'Leo': ['2307', '2208', 'The drama and regal ruler of the horoscope clan, Leo energy helps us shine, express ourselves boldly and wear our hearts on our sleeves.'], 'Virgo': ['2308','2209','The masterful helper of the horoscope wheel, Virgo energy teaches us to serve, do impeccable work and prioritize wellbeing of ourselves, our loved ones and the planet.'], 'Libra': ['2309', '2210','The balance of the horoscope family, Libra energy inspires us to seek peace, harmony and cooperation and to do it with style and grace.'], 'Scorpius': ['2310','2111','The most intense and focused of the horoscope signs, Scorpio energy helps us dive deep, merge our superpowers and form bonds that are built to last.'], 'Sagittarius': ['2211','2112','The wordly adventurer of the horoscope wheel, Sagittarius energy inspires us to dream big, chase the impossible and take fearless risks.'], 'Capricornus':['2212', '3112', 'The measured master planner of the horoscope family, Capricon energy teaches us the power of structure and long-term goals.'] }\n",
        "\n",
        "signs = (\"StartDate\", \"EndDate\",\"Comment\")\n",
        "# These signs block forms the rows which belong to table.\n",
        "dataFrame=pd.DataFrame(COMMENTS, index=signs )\n",
        "# We created dataFrame which includes zodiac comments and signs."
      ],
      "execution_count": 0,
      "outputs": []
    },
    {
      "cell_type": "code",
      "metadata": {
        "id": "qA6VlhWlD0zM",
        "colab_type": "code",
        "colab": {}
      },
      "source": [
        "dataFrame.head()\n",
        "# We can show the table which was created by pandas library."
      ],
      "execution_count": 0,
      "outputs": []
    },
    {
      "cell_type": "code",
      "metadata": {
        "id": "jMnNrLKP4GoJ",
        "colab_type": "code",
        "colab": {}
      },
      "source": [
        "from datetime import datetime\n",
        "\n",
        "ZODIAC_SIGN = [['Capricornus', '0101', '1901','The measured master planner of the horoscope family, Capricon energy teaches us the power of structure and long-term goals.'], ['Aquarius', '2001', '1802', 'The mad scientist and humanitarian of the horoscope wheel, futuristic Aquarius helps us innovate and unite for social justice.'], ['Pisces', '1902', '2003', 'The dreamer and healer of the horoscope family, Pisces energy awakens compassion, imagination and artistry, uniting us as one.'], ['Aries', '2103', '1904', 'The pioneer and trailblazer of the horoscope wheel, Aries energy helps us initiate, fight for our beliefs and fearlessly put ourselves out there.'], ['Taurus', '2004', '2005', 'The persistent provider of the horoscope family, Taurus energy helps us seek security, enjoy earthly pleasures and get the job done.'], ['Gemini', '2105', '2006', 'The most versatile and vibrant horoscope sign, Gemini energy helps us communicate, collaborate and fly our freak flags at full mast.'], ['Cancer', '2106', '2207', 'The natural nurturer of the horoscope wheel, Cancer energy helps us connect with our feelings, plant deep roots and feather our family nests.'], ['Leo', '2307', '2208', 'The drama and regal ruler of the horoscope clan, Leo energy helps us shine, express ourselves boldly and wear our hearts on our sleeves.'], ['Virgo', '2308', '2209', 'The masterful helper of the horoscope wheel, Virgo energy teaches us to serve, do impeccable work and prioritize wellbeing of ourselves, our loved ones and the planet.'], ['Libra', '2309', '2210', 'The balance of the horoscope family, Libra energy inspires us to seek peace, harmony and cooperation and to do it with style and grace.'], ['Scorpius', '2310', '2111', 'The most intense and focused of the horoscope signs, Scorpio energy helps us dive deep, merge our superpowers and form bonds that are built to last.'], ['Sagittarius', '2211', '2112', 'The wordly adventurer of the horoscope wheel, Sagittarius energy inspires us to dream big, chase the impossible and take fearless risks.'], ['Capricornus', '2212', '3112', 'The measured master planner of the horoscope family, Capricon energy teaches us the power of structure and long-term goals.']]\n",
        "\n",
        "# User input collection.\n",
        "def zodiac_input():\n",
        "    #Should prompt for user input(no year, just ddmm), validate it and return the value if correct.\n",
        "    # Defined the date of birth as zodiac_tarih.\n",
        "    zodiac_tarih = \"\"\n",
        "    date_input = input('Please input your date of birth (ddmm): ')\n",
        "\n",
        "# Try / except loop to \n",
        "    try:\n",
        "# This if clause checks the entered data.\n",
        "        if date_input != datetime.strptime(date_input, \"%d%m\").strftime('%d%m'):\n",
        "            raise ValueError\n",
        "        zodiac_tarih = date_input\n",
        "        return zodiac_tarih\n",
        "    except ValueError:\n",
        "#if you didn't enter the data in the desired format, the below value will be shown.\n",
        "        print(\"Inaccurate date format, you should enter data with this format DDMM, now please try again.\")\n",
        "        return zodiac_input()\n",
        "    pass\n",
        "\n",
        "# Defined the get_zodiac which brings datas in the list.\n",
        "def get_zodiac():\n",
        "    \"\"\"Should return a zodiac based on a date.\"\"\"\n",
        "    date = zodiac_input()\n",
        "    date = datetime.strptime(date, \"%d%m\")\n",
        "    for zodiac in ZODIAC_SIGN:\n",
        "        start_date = datetime.strptime(zodiac[1], \"%d%m\")\n",
        "        end_date = datetime.strptime(zodiac[2], \"%d%m\")\n",
        "# This loop allows us to find your start date and end date which you wrote, in the list and then brings it.\n",
        "        if start_date <= date and end_date >= date:\n",
        "            return('Your zodiac sign is: '+zodiac[0] + '. Your zodiac sign\\'s comment is: ' + zodiac[3])\n",
        "# if the input date is written correctly, this block will enable the program to bring the latest return value else this block will direct us to enter another data again.\n",
        "if __name__ == \"__main__\":\n",
        "    print(get_zodiac())"
      ],
      "execution_count": 0,
      "outputs": []
    }
  ]
}
